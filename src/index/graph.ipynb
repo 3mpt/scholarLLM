{
 "cells": [
  {
   "cell_type": "code",
   "execution_count": null,
   "metadata": {},
   "outputs": [],
   "source": [
    "%pip install --upgrade --quiet langchain langchain-neo4j langchain-openai langgraph"
   ]
  },
  {
   "cell_type": "markdown",
   "metadata": {},
   "source": [
    "We default to OpenAI models in this guide."
   ]
  },
  {
   "cell_type": "code",
   "execution_count": 3,
   "metadata": {},
   "outputs": [],
   "source": [
    "import getpass\n",
    "import os\n",
    "api_base_url =  \"http://127.0.0.1:8000/v1/\"\n",
    "model = \"models/internlm2_5-7b-chat\"\n",
    "api_key = \"my_key\""
   ]
  },
  {
   "cell_type": "markdown",
   "metadata": {},
   "source": [
    "Next, we need to define Neo4j credentials.\n",
    "Follow [these installation steps](https://neo4j.com/docs/operations-manual/current/installation/) to set up a Neo4j database."
   ]
  },
  {
   "cell_type": "code",
   "execution_count": 4,
   "metadata": {},
   "outputs": [],
   "source": [
    "os.environ[\"NEO4J_URI\"] = \"bolt://localhost:7687\"\n",
    "os.environ[\"NEO4J_USERNAME\"] = \"neo4j\"\n",
    "os.environ[\"NEO4J_PASSWORD\"] = \"123qwezxc\""
   ]
  },
  {
   "cell_type": "markdown",
   "metadata": {},
   "source": [
    "The below example will create a connection with a Neo4j database and will populate it with example data about movies and their actors."
   ]
  },
  {
   "cell_type": "code",
   "execution_count": 6,
   "metadata": {},
   "outputs": [
    {
     "name": "stderr",
     "output_type": "stream",
     "text": [
      "Received notification from DBMS server: {severity: WARNING} {code: Neo.ClientNotification.Statement.FeatureDeprecationWarning} {category: DEPRECATION} {title: This feature is deprecated and will be removed in future versions.} {description: The procedure has a deprecated field. ('config' used by 'apoc.meta.graphSample' is deprecated.)} {position: line: 1, column: 1, offset: 0} for query: \"CALL apoc.meta.graphSample() YIELD nodes, relationships RETURN nodes, [rel in relationships | {name:apoc.any.property(rel, 'type'), count: apoc.any.property(rel, 'count')}] AS relationships\"\n"
     ]
    },
    {
     "name": "stdout",
     "output_type": "stream",
     "text": [
      "Node properties:\n",
      "- **安全管理**\n",
      "  - `name`: STRING Example: \"煤层气井钻井、压裂、排采、修井等施工方案\"\n",
      "- **法律法规**\n",
      "  - `name`: STRING Example: \"按照有关规定进行安全条件论证和安全预评价\"\n",
      "- **设备与工具**\n",
      "  - `name`: STRING Example: \"安全设施\"\n",
      "- **活动与作业**\n",
      "  - `name`: STRING Example: \"煤层气开采项目\"\n",
      "- **组织与人员**\n",
      "  - `name`: STRING Example: \"煤层气企业负责\"\n",
      "- **环境与条件**\n",
      "  - `name`: STRING Example: \"不能立即整改的\"\n",
      "- **Chunk**\n",
      "  - `id`: STRING Available options: ['59ecb5a93f48af36ef23bddcd5ef1353']\n",
      "  - `text`: STRING Available options: ['测井人员不得干什么?']\n",
      "  - `question`: STRING Available options: ['测井人员不得干什么?']\n",
      "  - `query`: STRING Available options: [\"MATCH (person:组织与人员 {name: '测井人员'})-[:不得]->(activi\"]\n",
      "Relationship properties:\n",
      "\n",
      "The relationships:\n",
      "(:安全管理)-[:由]->(:组织与人员)\n",
      "(:安全管理)-[:由]->(:安全管理)\n",
      "(:安全管理)-[:应当]->(:组织与人员)\n",
      "(:安全管理)-[:应当]->(:法律法规)\n",
      "(:安全管理)-[:应当符合]->(:安全管理)\n",
      "(:法律法规)-[:允许]->(:活动与作业)\n",
      "(:设备与工具)-[:必须]->(:活动与作业)\n",
      "(:设备与工具)-[:必须]->(:安全管理)\n",
      "(:设备与工具)-[:属于]->(:活动与作业)\n",
      "(:设备与工具)-[:应当]->(:安全管理)\n",
      "(:设备与工具)-[:应当]->(:环境与条件)\n",
      "(:设备与工具)-[:应当]->(:活动与作业)\n",
      "(:设备与工具)-[:应当]->(:法律法规)\n",
      "(:设备与工具)-[:应当]->(:设备与工具)\n",
      "(:设备与工具)-[:需要]->(:安全管理)\n",
      "(:设备与工具)-[:不得]->(:安全管理)\n",
      "(:设备与工具)-[:不得]->(:法律法规)\n",
      "(:设备与工具)-[:不得]->(:活动与作业)\n",
      "(:设备与工具)-[:不得]->(:环境与条件)\n",
      "(:设备与工具)-[:严禁]->(:设备与工具)\n",
      "(:设备与工具)-[:严禁]->(:活动与作业)\n",
      "(:设备与工具)-[:应当符合]->(:法律法规)\n",
      "(:设备与工具)-[:应当符合]->(:安全管理)\n",
      "(:设备与工具)-[:满足]->(:环境与条件)\n",
      "(:设备与工具)-[:允许]->(:安全管理)\n",
      "(:活动与作业)-[:应当]->(:活动与作业)\n",
      "(:活动与作业)-[:应当]->(:法律法规)\n",
      "(:活动与作业)-[:应当]->(:环境与条件)\n",
      "(:活动与作业)-[:应当]->(:安全管理)\n",
      "(:活动与作业)-[:未经]->(:活动与作业)\n",
      "(:活动与作业)-[:应当符合]->(:法律法规)\n",
      "(:活动与作业)-[:应当符合]->(:安全管理)\n",
      "(:活动与作业)-[:应当符合]->(:设备与工具)\n",
      "(:活动与作业)-[:应当符合]->(:环境与条件)\n",
      "(:活动与作业)-[:包含]->(:活动与作业)\n",
      "(:活动与作业)-[:条件下]->(:环境与条件)\n",
      "(:活动与作业)-[:需要]->(:安全管理)\n",
      "(:活动与作业)-[:必须]->(:活动与作业)\n",
      "(:活动与作业)-[:必须]->(:环境与条件)\n",
      "(:活动与作业)-[:不得]->(:安全管理)\n",
      "(:活动与作业)-[:严禁]->(:活动与作业)\n",
      "(:组织与人员)-[:应当]->(:活动与作业)\n",
      "(:组织与人员)-[:应当]->(:安全管理)\n",
      "(:组织与人员)-[:应当]->(:环境与条件)\n",
      "(:组织与人员)-[:应当]->(:法律法规)\n",
      "(:组织与人员)-[:应当]->(:设备与工具)\n",
      "(:组织与人员)-[:必须]->(:活动与作业)\n",
      "(:组织与人员)-[:必须]->(:法律法规)\n",
      "(:组织与人员)-[:对]->(:法律法规)\n",
      "(:组织与人员)-[:进行]->(:活动与作业)\n",
      "(:组织与人员)-[:应当符合]->(:安全管理)\n",
      "(:组织与人员)-[:应当符合]->(:法律法规)\n",
      "(:组织与人员)-[:不得]->(:设备与工具)\n",
      "(:组织与人员)-[:不得]->(:活动与作业)\n",
      "(:组织与人员)-[:需要]->(:安全管理)\n",
      "(:组织与人员)-[:需要]->(:法律法规)\n",
      "(:组织与人员)-[:严禁]->(:环境与条件)\n",
      "(:组织与人员)-[:设置]->(:设备与工具)\n",
      "(:环境与条件)-[:应当]->(:安全管理)\n",
      "(:环境与条件)-[:应当]->(:活动与作业)\n",
      "(:环境与条件)-[:应当]->(:设备与工具)\n",
      "(:环境与条件)-[:应当]->(:法律法规)\n",
      "(:环境与条件)-[:应当]->(:环境与条件)\n",
      "(:环境与条件)-[:应当]->(:组织与人员)\n",
      "(:环境与条件)-[:严禁]->(:活动与作业)\n",
      "(:环境与条件)-[:严禁]->(:安全管理)\n",
      "(:环境与条件)-[:严禁]->(:法律法规)\n",
      "(:环境与条件)-[:需要]->(:设备与工具)\n",
      "(:环境与条件)-[:需要]->(:安全管理)\n",
      "(:环境与条件)-[:属于]->(:环境与条件)\n",
      "(:环境与条件)-[:属于]->(:组织与人员)\n",
      "(:环境与条件)-[:满足]->(:法律法规)\n",
      "(:环境与条件)-[:包含]->(:环境与条件)\n",
      "(:环境与条件)-[:允许]->(:安全管理)\n",
      "(:环境与条件)-[:允许]->(:活动与作业)\n",
      "(:环境与条件)-[:不得]->(:法律法规)\n",
      "(:环境与条件)-[:不得]->(:环境与条件)\n",
      "(:环境与条件)-[:不得]->(:活动与作业)\n",
      "(:环境与条件)-[:不得]->(:安全管理)\n",
      "(:环境与条件)-[:应当符合]->(:安全管理)\n",
      "(:环境与条件)-[:应当符合]->(:法律法规)\n",
      "(:环境与条件)-[:进行]->(:活动与作业)\n",
      "(:环境与条件)-[:设置]->(:环境与条件)\n",
      "(:环境与条件)-[:必须]->(:活动与作业)\n",
      "(:环境与条件)-[:必须]->(:安全管理)\n",
      "(:环境与条件)-[:必须]->(:环境与条件)\n",
      "(:环境与条件)-[:是]->(:环境与条件)\n"
     ]
    }
   ],
   "source": [
    "from langchain_neo4j import Neo4jGraph\n",
    "\n",
    "enhanced_graph = Neo4jGraph(enhanced_schema=True)\n",
    "print(enhanced_graph.schema)"
   ]
  },
  {
   "cell_type": "markdown",
   "metadata": {},
   "source": [
    "The `enhanced_schema` option enriches property information by including details such as minimum and maximum values for floats and dates, as well as example values for string properties. This additional context helps guide the LLM toward generating more accurate and effective queries.\n",
    "\n",
    "Great! We've got a graph database that we can query. Now let's try hooking it up to an LLM.\n",
    "\n",
    "## GraphQACypherChain\n",
    "\n",
    "Let's use a simple out-of-the-box chain that takes a question, turns it into a Cypher query, executes the query, and uses the result to answer the original question.\n",
    "\n",
    "![graph_chain.webp](../../static/img/graph_chain.webp)\n",
    "\n",
    "\n",
    "LangChain comes with a built-in chain for this workflow that is designed to work with Neo4j: [GraphCypherQAChain](/docs/integrations/graphs/neo4j_cypher)"
   ]
  },
  {
   "cell_type": "code",
   "execution_count": 7,
   "metadata": {},
   "outputs": [
    {
     "name": "stdout",
     "output_type": "stream",
     "text": [
      "\n",
      "\n",
      "\u001b[1m> Entering new GraphCypherQAChain chain...\u001b[0m\n",
      "@@@@@ [HumanMessage(content='Task:Generate Cypher statement to query a graph database.\\nInstructions:\\nUse only the provided relationship types and properties in the schema.\\nDo not use any other relationship types or properties that are not provided.\\nSchema:\\nNode properties are the following:\\n安全管理 {name: STRING},法律法规 {name: STRING},设备与工具 {name: STRING},活动与作业 {name: STRING},组织与人员 {name: STRING},环境与条件 {name: STRING},Chunk {id: STRING, embedding: LIST, text: STRING, question: STRING, query: STRING}\\nRelationship properties are the following:\\n\\nThe relationships are the following:\\n(:安全管理)-[:由]->(:组织与人员),(:安全管理)-[:由]->(:安全管理),(:安全管理)-[:应当]->(:组织与人员),(:安全管理)-[:应当]->(:法律法规),(:安全管理)-[:应当符合]->(:安全管理),(:法律法规)-[:允许]->(:活动与作业),(:设备与工具)-[:必须]->(:活动与作业),(:设备与工具)-[:必须]->(:安全管理),(:设备与工具)-[:属于]->(:活动与作业),(:设备与工具)-[:应当]->(:安全管理),(:设备与工具)-[:应当]->(:环境与条件),(:设备与工具)-[:应当]->(:活动与作业),(:设备与工具)-[:应当]->(:法律法规),(:设备与工具)-[:应当]->(:设备与工具),(:设备与工具)-[:需要]->(:安全管理),(:设备与工具)-[:不得]->(:安全管理),(:设备与工具)-[:不得]->(:法律法规),(:设备与工具)-[:不得]->(:活动与作业),(:设备与工具)-[:不得]->(:环境与条件),(:设备与工具)-[:严禁]->(:设备与工具),(:设备与工具)-[:严禁]->(:活动与作业),(:设备与工具)-[:应当符合]->(:法律法规),(:设备与工具)-[:应当符合]->(:安全管理),(:设备与工具)-[:满足]->(:环境与条件),(:设备与工具)-[:允许]->(:安全管理),(:活动与作业)-[:应当]->(:活动与作业),(:活动与作业)-[:应当]->(:法律法规),(:活动与作业)-[:应当]->(:环境与条件),(:活动与作业)-[:应当]->(:安全管理),(:活动与作业)-[:未经]->(:活动与作业),(:活动与作业)-[:应当符合]->(:法律法规),(:活动与作业)-[:应当符合]->(:安全管理),(:活动与作业)-[:应当符合]->(:设备与工具),(:活动与作业)-[:应当符合]->(:环境与条件),(:活动与作业)-[:包含]->(:活动与作业),(:活动与作业)-[:条件下]->(:环境与条件),(:活动与作业)-[:需要]->(:安全管理),(:活动与作业)-[:必须]->(:活动与作业),(:活动与作业)-[:必须]->(:环境与条件),(:活动与作业)-[:不得]->(:安全管理),(:活动与作业)-[:严禁]->(:活动与作业),(:组织与人员)-[:应当]->(:活动与作业),(:组织与人员)-[:应当]->(:安全管理),(:组织与人员)-[:应当]->(:环境与条件),(:组织与人员)-[:应当]->(:法律法规),(:组织与人员)-[:应当]->(:设备与工具),(:组织与人员)-[:必须]->(:活动与作业),(:组织与人员)-[:必须]->(:法律法规),(:组织与人员)-[:对]->(:法律法规),(:组织与人员)-[:进行]->(:活动与作业),(:组织与人员)-[:应当符合]->(:安全管理),(:组织与人员)-[:应当符合]->(:法律法规),(:组织与人员)-[:不得]->(:设备与工具),(:组织与人员)-[:不得]->(:活动与作业),(:组织与人员)-[:需要]->(:安全管理),(:组织与人员)-[:需要]->(:法律法规),(:组织与人员)-[:严禁]->(:环境与条件),(:组织与人员)-[:设置]->(:设备与工具),(:环境与条件)-[:应当]->(:安全管理),(:环境与条件)-[:应当]->(:活动与作业),(:环境与条件)-[:应当]->(:设备与工具),(:环境与条件)-[:应当]->(:法律法规),(:环境与条件)-[:应当]->(:环境与条件),(:环境与条件)-[:应当]->(:组织与人员),(:环境与条件)-[:严禁]->(:活动与作业),(:环境与条件)-[:严禁]->(:安全管理),(:环境与条件)-[:严禁]->(:法律法规),(:环境与条件)-[:需要]->(:设备与工具),(:环境与条件)-[:需要]->(:安全管理),(:环境与条件)-[:属于]->(:环境与条件),(:环境与条件)-[:属于]->(:组织与人员),(:环境与条件)-[:满足]->(:法律法规),(:环境与条件)-[:包含]->(:环境与条件),(:环境与条件)-[:允许]->(:安全管理),(:环境与条件)-[:允许]->(:活动与作业),(:环境与条件)-[:不得]->(:法律法规),(:环境与条件)-[:不得]->(:环境与条件),(:环境与条件)-[:不得]->(:活动与作业),(:环境与条件)-[:不得]->(:安全管理),(:环境与条件)-[:应当符合]->(:安全管理),(:环境与条件)-[:应当符合]->(:法律法规),(:环境与条件)-[:进行]->(:活动与作业),(:环境与条件)-[:设置]->(:环境与条件),(:环境与条件)-[:必须]->(:活动与作业),(:环境与条件)-[:必须]->(:安全管理),(:环境与条件)-[:必须]->(:环境与条件),(:环境与条件)-[:是]->(:环境与条件)\\nNote: Do not include any explanations or apologies in your responses.\\nDo not respond to any questions that might ask anything else than for you to construct a Cypher statement.\\nDo not include any text except the generated Cypher statement.\\n\\nThe question is:\\n测井人员不得干什么?', additional_kwargs={}, response_metadata={})]\n",
      "@@@ {'id': 'chatcmpl-de4647bbfa764f3b843d0811288f4cfa', 'choices': [{'finish_reason': 'stop', 'index': 0, 'logprobs': None, 'message': {'content': \"MATCH (p:组织与人员)-[:不得]->(r:活动与作业) WHERE p.name = '测井人员' RETURN r.name\", 'refusal': None, 'role': 'assistant', 'audio': None, 'function_call': None, 'tool_calls': []}, 'stop_reason': 92542}], 'created': 1735873987, 'model': 'models/internlm2_5-7b-chat', 'object': 'chat.completion', 'service_tier': None, 'system_fingerprint': None, 'usage': {'completion_tokens': 31, 'prompt_tokens': 1275, 'total_tokens': 1306, 'completion_tokens_details': None, 'prompt_tokens_details': None}, 'prompt_logprobs': None}\n",
      "Generated Cypher:\n",
      "\u001b[32;1m\u001b[1;3mMATCH (p:组织与人员)-[:不得]->(r:活动与作业) WHERE p.name = '测井人员' RETURN r.name\u001b[0m\n",
      "Full Context:\n",
      "\u001b[32;1m\u001b[1;3m[{'r.name': '动用非本岗位的仪器设备'}, {'r.name': '进行与测井无关的其他作业'}, {'r.name': '擅离职守'}]\u001b[0m\n",
      "@@@@@ [HumanMessage(content=\"You are an assistant that helps to form nice and human understandable answers.\\nThe information part contains the provided information that you must use to construct an answer.\\nThe provided information is authoritative, you must never doubt it or try to use your internal knowledge to correct it.\\nMake the answer sound as a response to the question. Do not mention that you based the result on the given information.\\nHere is an example:\\n\\nQuestion: Which managers own Neo4j stocks?\\nContext:[manager:CTL LLC, manager:JANE STREET GROUP LLC]\\nHelpful Answer: CTL LLC, JANE STREET GROUP LLC owns Neo4j stocks.\\n\\nFollow this example when generating answers.\\nIf the provided information is empty, say that you don't know the answer.\\nInformation:\\n[{'r.name': '动用非本岗位的仪器设备'}, {'r.name': '进行与测井无关的其他作业'}, {'r.name': '擅离职守'}]\\n\\nQuestion: 测井人员不得干什么?\\nHelpful Answer:\", additional_kwargs={}, response_metadata={})]\n",
      "@@@ {'id': 'chatcmpl-8ff8ebf77f534fdea97f3633d328e5dc', 'choices': [{'finish_reason': 'stop', 'index': 0, 'logprobs': None, 'message': {'content': '测井人员不得动用非本岗位的仪器设备，不得进行与测井无关的其他作业，也不得擅离职守。', 'refusal': None, 'role': 'assistant', 'audio': None, 'function_call': None, 'tool_calls': []}, 'stop_reason': 92542}], 'created': 1735873987, 'model': 'models/internlm2_5-7b-chat', 'object': 'chat.completion', 'service_tier': None, 'system_fingerprint': None, 'usage': {'completion_tokens': 29, 'prompt_tokens': 214, 'total_tokens': 243, 'completion_tokens_details': None, 'prompt_tokens_details': None}, 'prompt_logprobs': None}\n",
      "\n",
      "\u001b[1m> Finished chain.\u001b[0m\n"
     ]
    },
    {
     "data": {
      "text/plain": [
       "{'query': '测井人员不得干什么?', 'result': '测井人员不得动用非本岗位的仪器设备，不得进行与测井无关的其他作业，也不得擅离职守。'}"
      ]
     },
     "execution_count": 7,
     "metadata": {},
     "output_type": "execute_result"
    }
   ],
   "source": [
    "from langchain_neo4j import GraphCypherQAChain\n",
    "from langchain_openai import ChatOpenAI\n",
    "\n",
    "llm = ChatOpenAI(\n",
    "    model_name=model,          # 使用你的模型\n",
    "    temperature=0,           # 设置温度等其他参数\n",
    "    openai_api_base=api_base_url,  # 传递 api_base_url\n",
    "    openai_api_key=api_key,  # 传递 api_key\n",
    ")\n",
    "chain = GraphCypherQAChain.from_llm(\n",
    "    graph=enhanced_graph, llm=llm, verbose=True, allow_dangerous_requests=True\n",
    ")\n",
    "response = chain.invoke({\"query\": \"测井人员不得干什么?\"})\n",
    "response"
   ]
  },
  {
   "cell_type": "markdown",
   "metadata": {},
   "source": [
    "## 使用LangGraph进行高级实现\n",
    "虽然GraphCypherQAChain在快速演示方面很有效，但在生产环境中可能会面临挑战。过渡到LangGraph可以增强工作流程，但在生产中实现自然语言查询流仍然是一项复杂的任务。然而，有几种策略可以显著提高准确性和可靠性，我们将在下一步进行探索。\n",
    "\n",
    "以下是我们将实现的可视化LangGraph流程："
   ]
  },
  {
   "cell_type": "code",
   "execution_count": 8,
   "metadata": {},
   "outputs": [],
   "source": [
    "from operator import add\n",
    "from typing import Annotated, List\n",
    "\n",
    "from typing_extensions import TypedDict\n",
    "\n",
    "\n",
    "class InputState(TypedDict):\n",
    "    question: str\n",
    "\n",
    "\n",
    "class OverallState(TypedDict):\n",
    "    question: str\n",
    "    next_action: str\n",
    "    cypher_statement: str\n",
    "    cypher_errors: List[str]\n",
    "    database_records: List[dict]\n",
    "    steps: Annotated[List[str], add]\n",
    "\n",
    "\n",
    "class OutputState(TypedDict):\n",
    "    answer: str\n",
    "    steps: List[str]\n",
    "    cypher_statement: str"
   ]
  },
  {
   "cell_type": "markdown",
   "metadata": {},
   "source": [
    "第一步是一个简单的步骤，我们验证问题是否与煤矿安全有关。如果没有，我们会通知用户我们无法回答任何其他问题。否则，我们继续进行 Cypher 生成步骤。"
   ]
  },
  {
   "cell_type": "code",
   "execution_count": 21,
   "metadata": {},
   "outputs": [],
   "source": [
    "from typing import Literal\n",
    "from langchain_core.prompts import ChatPromptTemplate, HumanMessagePromptTemplate\n",
    "from pydantic import BaseModel, Field\n",
    "\n",
    "# 定义系统消息，描述智能助理的行为规则\n",
    "guardrails_system = f\"\"\"\n",
    "作为一名智能助理，你的主要目标是判断用户输入的问题是否与煤矿安全有关\n",
    "如果问题与煤矿安全有关，则输出\"coal\"。否则，输出\"end\"。\n",
    "为了做出这个决定，评估问题的内容，并确定它是否涉及任何安全管理、法律法规、设备与工具、活动与作业、组织与人员、环境与条件，\n",
    "或相关主题。仅提供指定的输出：\"coal\" 或 \"end\"。\n",
    "用户提问：\n",
    "{{question}}\n",
    "\"\"\"\n",
    "\n",
    "# 创建聊天模板，系统消息包含安全相关的决策逻辑，用户问题在\"human\"消息中\n",
    "guardrails_prompt = ChatPromptTemplate(\n",
    "    messages=[HumanMessagePromptTemplate.from_template(guardrails_system)],\n",
    "    input_variables=[\"question\"]\n",
    ")\n",
    "\n",
    "# 定义GuardrailsOutput类，用于存储模型输出的结果\n",
    "class GuardrailsOutput(BaseModel):\n",
    "    # 只有两个可能的输出：“coal”或“end”\n",
    "    decision: Literal[\"coal\", \"end\"] = Field(\n",
    "        description=\"关于该问题是否与煤矿安全有关的决定\"\n",
    "    )\n",
    "\n",
    "# 定义guardrails_chain，组合了聊天模板和结构化输出\n",
    "# guardrails_chain = guardrails_prompt | llm\n",
    "guardrails_chain = guardrails_prompt | llm.with_structured_output(GuardrailsOutput)\n",
    "\n",
    "# guardrails函数是主要逻辑，用于根据用户问题做出判断\n",
    "def guardrails(state: InputState) -> OverallState:\n",
    "    \"\"\"\n",
    "    决定问题是否与煤矿安全有关。\n",
    "    \"\"\"\n",
    "    # 调用guardrails_chain，传入问题，返回结构化输出\n",
    "    guardrails_output = guardrails_chain.invoke({\"question\": state.get(\"question\")})\n",
    "    \n",
    "    # 如果问题与煤矿安全无关，设置database_records为提示信息\n",
    "    database_records = None\n",
    "    if guardrails_output.decision == \"end\":\n",
    "        database_records = \"这个问题与煤矿安全无关。因此，我无法回答这个问题。\"\n",
    "\n",
    "    # 返回包含下一步动作、数据库记录和处理步骤的结果\n",
    "    return {\n",
    "        \"next_action\": guardrails_output.decision,  # 根据决策返回“coal”或“end”\n",
    "        \"database_records\": database_records,  # 如果是“end”，返回相关提示信息\n",
    "        \"steps\": [\"guardrail\"],  # 当前处理步骤\n",
    "    }\n"
   ]
  },
  {
   "cell_type": "markdown",
   "metadata": {},
   "source": [
    "### Few-shot 提示"
   ]
  },
  {
   "cell_type": "markdown",
   "metadata": {},
   "source": [
    "将自然语言转换为准确的查询具有挑战性。增强此过程的一种方法是提供相关的 \n",
    "few-shot 示例来指导 LLM 生成查询。为此，我们将使用 动态选择最相关的示例。"
   ]
  },
  {
   "cell_type": "code",
   "execution_count": 50,
   "metadata": {},
   "outputs": [],
   "source": [
    "from langchain_core.example_selectors import SemanticSimilarityExampleSelector\n",
    "from langchain_neo4j import Neo4jVector\n",
    "# from langchain_openai import OpenAIEmbeddings\n",
    "from langchain_huggingface import HuggingFaceEmbeddings\n",
    "examples = [\n",
    "    {\n",
    "        \"question\": \"煤矿测井人员不得干什么?\",\n",
    "        \"query\": \"MATCH (person:组织与人员 {name: '测井人员'})-[:不得]->(activity:活动与作业) RETURN person.name AS person_name, activity.name AS activity_name\",\n",
    "    },\n",
    "   \n",
    "    \n",
    "]\n",
    "embed_model = HuggingFaceEmbeddings(\n",
    "#指定了一个预训练的sentence-transformer模型的路径\n",
    "    model_name=\"/root/model/sentence-transformer\"\n",
    ")\n",
    "example_selector = SemanticSimilarityExampleSelector.from_examples(\n",
    "    examples, embed_model, Neo4jVector, k=5, input_keys=[\"question\"]\n",
    ")"
   ]
  },
  {
   "cell_type": "markdown",
   "metadata": {},
   "source": [
    "### text2cypher\n",
    "接下来，我们实现 Cypher 生成链，也称为 text2cypher。\n",
    "该提示包括增强的图形架构、动态选择的少数样本示例和用户的问题。这种组合允许生成 Cypher 查询以从数据库中检索相关信息。"
   ]
  },
  {
   "cell_type": "code",
   "execution_count": 11,
   "metadata": {},
   "outputs": [],
   "source": [
    "from langchain_core.output_parsers import StrOutputParser\n",
    "\n",
    "text2cypher_prompt = ChatPromptTemplate.from_messages(\n",
    "    [\n",
    "        (\n",
    "            \"system\",\n",
    "            (\n",
    "                \"Given an input question, convert it to a Cypher query. No pre-amble.\"\n",
    "                \"Do not wrap the response in any backticks or anything else. Respond with a Cypher statement only!\"\n",
    "            ),\n",
    "        ),\n",
    "        (\n",
    "            \"human\",\n",
    "            (\n",
    "                \"\"\"You are a Neo4j expert. Given an input question, create a syntactically correct Cypher query to run.\n",
    "Do not wrap the response in any backticks or anything else. Respond with a Cypher statement only!\n",
    "Here is the schema information\n",
    "{schema}\n",
    "\n",
    "Below are a number of examples of questions and their corresponding Cypher queries.\n",
    "\n",
    "{fewshot_examples}\n",
    "\n",
    "User input: {question}\n",
    "Cypher query:\"\"\"\n",
    "            ),\n",
    "        ),\n",
    "    ]\n",
    ")\n",
    "\n",
    "text2cypher_chain = text2cypher_prompt | llm | StrOutputParser()\n",
    "\n",
    "\n",
    "def generate_cypher(state: OverallState) -> OverallState:\n",
    "    \"\"\"\n",
    "    Generates a cypher statement based on the provided schema and user input\n",
    "    \"\"\"\n",
    "    NL = \"\\n\"\n",
    "    fewshot_examples = (NL * 2).join(\n",
    "        [\n",
    "            f\"Question: {el['question']}{NL}Cypher:{el['query']}\"\n",
    "            for el in example_selector.select_examples(\n",
    "                {\"question\": state.get(\"question\")}\n",
    "            )\n",
    "        ]\n",
    "    )\n",
    "    generated_cypher = text2cypher_chain.invoke(\n",
    "        {\n",
    "            \"question\": state.get(\"question\"),\n",
    "            \"fewshot_examples\": fewshot_examples,\n",
    "            \"schema\": enhanced_graph.schema,\n",
    "        }\n",
    "    )\n",
    "    return {\"cypher_statement\": generated_cypher, \"steps\": [\"generate_cypher\"]}"
   ]
  },
  {
   "cell_type": "markdown",
   "metadata": {},
   "source": [
    "### 查询验证\n",
    "\n",
    "下一步是验证生成的 Cypher 语句并确保所有属性值都准确无误。"
   ]
  },
  {
   "cell_type": "code",
   "execution_count": 12,
   "metadata": {},
   "outputs": [],
   "source": [
    "from typing import List, Optional\n",
    "\n",
    "validate_cypher_system = \"\"\"\n",
    "You are a Cypher expert reviewing a statement written by a junior developer.\n",
    "\"\"\"\n",
    "\n",
    "validate_cypher_user = \"\"\"You must check the following:\n",
    "* Are there any syntax errors in the Cypher statement?\n",
    "* Are there any missing or undefined variables in the Cypher statement?\n",
    "* Are any node labels missing from the schema?\n",
    "* Are any relationship types missing from the schema?\n",
    "* Are any of the properties not included in the schema?\n",
    "* Does the Cypher statement include enough information to answer the question?\n",
    "\n",
    "Examples of good errors:\n",
    "* Label (:Foo) does not exist, did you mean (:Bar)?\n",
    "* Property bar does not exist for label Foo, did you mean baz?\n",
    "* Relationship FOO does not exist, did you mean FOO_BAR?\n",
    "\n",
    "Schema:\n",
    "{schema}\n",
    "\n",
    "The question is:\n",
    "{question}\n",
    "\n",
    "The Cypher statement is:\n",
    "{cypher}\n",
    "\n",
    "Make sure you don't make any mistakes!\"\"\"\n",
    "\n",
    "validate_cypher_prompt = ChatPromptTemplate.from_messages(\n",
    "    [\n",
    "        (\n",
    "            \"system\",\n",
    "            validate_cypher_system,\n",
    "        ),\n",
    "        (\n",
    "            \"human\",\n",
    "            (validate_cypher_user),\n",
    "        ),\n",
    "    ]\n",
    ")\n",
    "\n",
    "\n",
    "class Property(BaseModel):\n",
    "    \"\"\"\n",
    "    Represents a filter condition based on a specific node property in a graph in a Cypher statement.\n",
    "    \"\"\"\n",
    "\n",
    "    node_label: str = Field(\n",
    "        description=\"The label of the node to which this property belongs.\"\n",
    "    )\n",
    "    property_key: str = Field(description=\"The key of the property being filtered.\")\n",
    "    property_value: str = Field(\n",
    "        description=\"The value that the property is being matched against.\"\n",
    "    )\n",
    "\n",
    "\n",
    "class ValidateCypherOutput(BaseModel):\n",
    "    \"\"\"\n",
    "    Represents the validation result of a Cypher query's output,\n",
    "    including any errors and applied filters.\n",
    "    \"\"\"\n",
    "\n",
    "    errors: Optional[List[str]] = Field(\n",
    "        description=\"A list of syntax or semantical errors in the Cypher statement. Always explain the discrepancy between schema and Cypher statement\"\n",
    "    )\n",
    "    filters: Optional[List[Property]] = Field(\n",
    "        description=\"A list of property-based filters applied in the Cypher statement.\"\n",
    "    )\n",
    "\n",
    "\n",
    "validate_cypher_chain = validate_cypher_prompt | llm.with_structured_output(\n",
    "    ValidateCypherOutput\n",
    ")"
   ]
  },
  {
   "cell_type": "markdown",
   "metadata": {},
   "source": [
    "### CypherQueryCorrector\n",
    "LLM 经常难以正确确定生成的 Cypher 语句中的关系方向。\n",
    "由于我们可以访问架构，因此可以使用 CypherQueryCorrector 确定性地更正这些方向。"
   ]
  },
  {
   "cell_type": "code",
   "execution_count": 13,
   "metadata": {},
   "outputs": [],
   "source": [
    "from langchain_neo4j.chains.graph_qa.cypher_utils import CypherQueryCorrector, Schema\n",
    "\n",
    "# Cypher query corrector is experimental\n",
    "corrector_schema = [\n",
    "    Schema(el[\"start\"], el[\"type\"], el[\"end\"])\n",
    "    for el in enhanced_graph.structured_schema.get(\"relationships\")\n",
    "]\n",
    "cypher_query_corrector = CypherQueryCorrector(corrector_schema)"
   ]
  },
  {
   "cell_type": "markdown",
   "metadata": {},
   "source": [
    "现在我们可以实现 Cypher 验证步骤。首先，我们使用该方法检测任何语法错误。\n",
    "接下来，我们利用 LLM 来识别潜在问题并提取用于筛选的属性。对于字符串属性，我们使用一个简单的子句针对数据库验证它们。EXPLAINCONTAINS\n",
    "根据验证结果，该过程可以采用以下路径：\n",
    "如果值映射失败，我们将结束对话并通知用户我们无法识别特定属性值\n",
    "如果发现错误，我们将路由查询以进行更正。\n",
    "如果未检测到问题，我们将继续执行 Cypher 执行步骤。"
   ]
  },
  {
   "cell_type": "code",
   "execution_count": 14,
   "metadata": {},
   "outputs": [],
   "source": [
    "from neo4j.exceptions import CypherSyntaxError\n",
    "\n",
    "\n",
    "def validate_cypher(state: OverallState) -> OverallState:\n",
    "    \"\"\"\n",
    "    Validates the Cypher statements and maps any property values to the database.\n",
    "    \"\"\"\n",
    "    errors = []\n",
    "    mapping_errors = []\n",
    "    # Check for syntax errors\n",
    "    try:\n",
    "        enhanced_graph.query(f\"EXPLAIN {state.get('cypher_statement')}\")\n",
    "    except CypherSyntaxError as e:\n",
    "        errors.append(e.message)\n",
    "    # Experimental feature for correcting relationship directions\n",
    "    corrected_cypher = cypher_query_corrector(state.get(\"cypher_statement\"))\n",
    "    if not corrected_cypher:\n",
    "        errors.append(\"The generated Cypher statement doesn't fit the graph schema\")\n",
    "    if not corrected_cypher == state.get(\"cypher_statement\"):\n",
    "        print(\"Relationship direction was corrected\")\n",
    "    # Use LLM to find additional potential errors and get the mapping for values\n",
    "    llm_output = validate_cypher_chain.invoke(\n",
    "        {\n",
    "            \"question\": state.get(\"question\"),\n",
    "            \"schema\": enhanced_graph.schema,\n",
    "            \"cypher\": state.get(\"cypher_statement\"),\n",
    "        }\n",
    "    )\n",
    "    if llm_output.errors:\n",
    "        errors.extend(llm_output.errors)\n",
    "    if llm_output.filters:\n",
    "        for filter in llm_output.filters:\n",
    "            # Do mapping only for string values\n",
    "            if (\n",
    "                not [\n",
    "                    prop\n",
    "                    for prop in enhanced_graph.structured_schema[\"node_props\"][\n",
    "                        filter.node_label\n",
    "                    ]\n",
    "                    if prop[\"property\"] == filter.property_key\n",
    "                ][0][\"type\"]\n",
    "                == \"STRING\"\n",
    "            ):\n",
    "                continue\n",
    "            mapping = enhanced_graph.query(\n",
    "                f\"MATCH (n:{filter.node_label}) WHERE toLower(n.`{filter.property_key}`) = toLower($value) RETURN 'yes' LIMIT 1\",\n",
    "                {\"value\": filter.property_value},\n",
    "            )\n",
    "            if not mapping:\n",
    "                print(\n",
    "                    f\"Missing value mapping for {filter.node_label} on property {filter.property_key} with value {filter.property_value}\"\n",
    "                )\n",
    "                mapping_errors.append(\n",
    "                    f\"Missing value mapping for {filter.node_label} on property {filter.property_key} with value {filter.property_value}\"\n",
    "                )\n",
    "    if mapping_errors:\n",
    "        next_action = \"end\"\n",
    "    elif errors:\n",
    "        next_action = \"correct_cypher\"\n",
    "    else:\n",
    "        next_action = \"execute_cypher\"\n",
    "\n",
    "    return {\n",
    "        \"next_action\": next_action,\n",
    "        \"cypher_statement\": corrected_cypher,\n",
    "        \"cypher_errors\": errors,\n",
    "        \"steps\": [\"validate_cypher\"],\n",
    "    }"
   ]
  },
  {
   "cell_type": "markdown",
   "metadata": {},
   "source": [
    "The Cypher correction step takes the existing Cypher statement, any identified errors, and the original question to generate a corrected version of the query."
   ]
  },
  {
   "cell_type": "code",
   "execution_count": 15,
   "metadata": {},
   "outputs": [],
   "source": [
    "correct_cypher_prompt = ChatPromptTemplate.from_messages(\n",
    "    [\n",
    "        (\n",
    "            \"system\",\n",
    "            (\n",
    "                \"You are a Cypher expert reviewing a statement written by a junior developer. \"\n",
    "                \"You need to correct the Cypher statement based on the provided errors. No pre-amble.\"\n",
    "                \"Do not wrap the response in any backticks or anything else. Respond with a Cypher statement only!\"\n",
    "            ),\n",
    "        ),\n",
    "        (\n",
    "            \"human\",\n",
    "            (\n",
    "                \"\"\"Check for invalid syntax or semantics and return a corrected Cypher statement.\n",
    "\n",
    "Schema:\n",
    "{schema}\n",
    "\n",
    "Note: Do not include any explanations or apologies in your responses.\n",
    "Do not wrap the response in any backticks or anything else.\n",
    "Respond with a Cypher statement only!\n",
    "\n",
    "Do not respond to any questions that might ask anything else than for you to construct a Cypher statement.\n",
    "\n",
    "The question is:\n",
    "{question}\n",
    "\n",
    "The Cypher statement is:\n",
    "{cypher}\n",
    "\n",
    "The errors are:\n",
    "{errors}\n",
    "\n",
    "Corrected Cypher statement: \"\"\"\n",
    "            ),\n",
    "        ),\n",
    "    ]\n",
    ")\n",
    "\n",
    "correct_cypher_chain = correct_cypher_prompt | llm | StrOutputParser()\n",
    "\n",
    "\n",
    "def correct_cypher(state: OverallState) -> OverallState:\n",
    "    \"\"\"\n",
    "    Correct the Cypher statement based on the provided errors.\n",
    "    \"\"\"\n",
    "    corrected_cypher = correct_cypher_chain.invoke(\n",
    "        {\n",
    "            \"question\": state.get(\"question\"),\n",
    "            \"errors\": state.get(\"cypher_errors\"),\n",
    "            \"cypher\": state.get(\"cypher_statement\"),\n",
    "            \"schema\": enhanced_graph.schema,\n",
    "        }\n",
    "    )\n",
    "\n",
    "    return {\n",
    "        \"next_action\": \"validate_cypher\",\n",
    "        \"cypher_statement\": corrected_cypher,\n",
    "        \"steps\": [\"correct_cypher\"],\n",
    "    }"
   ]
  },
  {
   "cell_type": "markdown",
   "metadata": {},
   "source": [
    "We need to add a step that executes the given Cypher statement. If no results are returned, we should explicitly handle this scenario, as leaving the context empty can sometimes lead to LLM hallucinations."
   ]
  },
  {
   "cell_type": "code",
   "execution_count": 16,
   "metadata": {},
   "outputs": [],
   "source": [
    "no_results = \"I couldn't find any relevant information in the database\"\n",
    "\n",
    "\n",
    "def execute_cypher(state: OverallState) -> OverallState:\n",
    "    \"\"\"\n",
    "    Executes the given Cypher statement.\n",
    "    \"\"\"\n",
    "\n",
    "    records = enhanced_graph.query(state.get(\"cypher_statement\"))\n",
    "    return {\n",
    "        \"database_records\": records if records else no_results,\n",
    "        \"next_action\": \"end\",\n",
    "        \"steps\": [\"execute_cypher\"],\n",
    "    }"
   ]
  },
  {
   "cell_type": "markdown",
   "metadata": {},
   "source": [
    "The final step is to generate the answer. This involves combining the initial question with the database output to produce a relevant response."
   ]
  },
  {
   "cell_type": "code",
   "execution_count": 17,
   "metadata": {},
   "outputs": [],
   "source": [
    "generate_final_prompt = ChatPromptTemplate.from_messages(\n",
    "    [\n",
    "        (\n",
    "            \"system\",\n",
    "            \"You are a helpful assistant\",\n",
    "        ),\n",
    "        (\n",
    "            \"human\",\n",
    "            (\n",
    "                \"\"\"Use the following results retrieved from a database to provide\n",
    "a succinct, definitive answer to the user's question.\n",
    "\n",
    "Respond as if you are answering the question directly.\n",
    "\n",
    "Results: {results}\n",
    "Question: {question}\"\"\"\n",
    "            ),\n",
    "        ),\n",
    "    ]\n",
    ")\n",
    "\n",
    "generate_final_chain = generate_final_prompt | llm | StrOutputParser()\n",
    "\n",
    "\n",
    "def generate_final_answer(state: OverallState) -> OutputState:\n",
    "    \"\"\"\n",
    "    Decides if the question is related to movies.\n",
    "    \"\"\"\n",
    "    final_answer = generate_final_chain.invoke(\n",
    "        {\"question\": state.get(\"question\"), \"results\": state.get(\"database_records\")}\n",
    "    )\n",
    "    return {\"answer\": final_answer, \"steps\": [\"generate_final_answer\"]}"
   ]
  },
  {
   "cell_type": "markdown",
   "metadata": {},
   "source": [
    "Next, we will implement the LangGraph workflow, starting with defining the conditional edge functions."
   ]
  },
  {
   "cell_type": "code",
   "execution_count": 46,
   "metadata": {},
   "outputs": [],
   "source": [
    "def guardrails_condition(\n",
    "    state: OverallState,\n",
    ") -> Literal[\"generate_cypher\", \"generate_final_answer\"]:\n",
    "    if state.get(\"next_action\") == \"end\":\n",
    "        return \"generate_final_answer\"\n",
    "    elif state.get(\"next_action\") == \"coal\":\n",
    "        return \"generate_cypher\"\n",
    "\n",
    "\n",
    "def validate_cypher_condition(\n",
    "    state: OverallState,\n",
    ") -> Literal[\"generate_final_answer\", \"correct_cypher\", \"execute_cypher\"]:\n",
    "    if state.get(\"next_action\") == \"end\":\n",
    "        return \"generate_final_answer\"\n",
    "    elif state.get(\"next_action\") == \"correct_cypher\":\n",
    "        return \"correct_cypher\"\n",
    "    elif state.get(\"next_action\") == \"execute_cypher\":\n",
    "        return \"execute_cypher\""
   ]
  },
  {
   "cell_type": "markdown",
   "metadata": {},
   "source": [
    "Let's put it all together now."
   ]
  },
  {
   "cell_type": "code",
   "execution_count": 51,
   "metadata": {},
   "outputs": [
    {
     "data": {
      "image/png": "[encoded data removed]",
      "text/plain": [
       "<IPython.core.display.Image object>"
      ]
     },
     "metadata": {},
     "output_type": "display_data"
    }
   ],
   "source": [
    "from IPython.display import Image, display\n",
    "from langgraph.graph import END, START, StateGraph\n",
    "\n",
    "langgraph = StateGraph(OverallState, input=InputState, output=OutputState)\n",
    "langgraph.add_node(guardrails)\n",
    "langgraph.add_node(generate_cypher)\n",
    "langgraph.add_node(validate_cypher)\n",
    "langgraph.add_node(correct_cypher)\n",
    "langgraph.add_node(execute_cypher)\n",
    "langgraph.add_node(generate_final_answer)\n",
    "\n",
    "langgraph.add_edge(START, \"guardrails\")\n",
    "langgraph.add_conditional_edges(\n",
    "    \"guardrails\",\n",
    "    guardrails_condition,\n",
    ")\n",
    "langgraph.add_edge(\"generate_cypher\", \"validate_cypher\")\n",
    "langgraph.add_conditional_edges(\n",
    "    \"validate_cypher\",\n",
    "    validate_cypher_condition,\n",
    ")\n",
    "langgraph.add_edge(\"execute_cypher\", \"generate_final_answer\")\n",
    "langgraph.add_edge(\"correct_cypher\", \"validate_cypher\")\n",
    "langgraph.add_edge(\"generate_final_answer\", END)\n",
    "\n",
    "# langgraph.add_edge(START, \"guardrails\")\n",
    "# langgraph.add_edge(\"guardrails\", \"generate_cypher\")\n",
    "# langgraph.add_edge(\"generate_cypher\", \"validate_cypher\")\n",
    "# langgraph.add_edge(\"validate_cypher\", END)\n",
    "langgraph = langgraph.compile()\n",
    "\n",
    "# View\n",
    "display(Image(langgraph.get_graph().draw_mermaid_png()))"
   ]
  },
  {
   "cell_type": "markdown",
   "metadata": {},
   "source": [
    "问一些无关问题"
   ]
  },
  {
   "cell_type": "code",
   "execution_count": 24,
   "metadata": {},
   "outputs": [
    {
     "name": "stdout",
     "output_type": "stream",
     "text": [
      "@@@@@ [HumanMessage(content='\\n作为一名智能助理，你的主要目标是决定一个给定的问题是否与煤矿安全有关。\\n如果问题与煤矿安全有关，则输出\"coal\"。否则，输出\"end\"。\\n为了做出这个决定，评估问题的内容，并确定它是否涉及任何安全管理、法律法规、设备与工具、活动与作业、组织与人员、环境与条件，\\n或相关主题。仅提供指定的输出：\"coal\" 或 \"end\"。\\n用户提问：\\nWhat\\'s the weather in Spain?\\n', additional_kwargs={}, response_metadata={})]\n",
      "@@@ {'id': 'chatcmpl-79a6e29b3b0749989e8951b933bf2c38', 'choices': [{'finish_reason': 'stop', 'index': 0, 'logprobs': None, 'message': {'content': '', 'refusal': None, 'role': 'assistant', 'audio': None, 'function_call': None, 'tool_calls': [{'id': 'chatcmpl-tool-402c272ac3ef4ccc9b8d7d1d9473ba01', 'function': {'arguments': '{ \"decision\": \"end\" }', 'name': 'GuardrailsOutput'}, 'type': 'function'}]}, 'stop_reason': None}], 'created': 1735875127, 'model': 'models/internlm2_5-7b-chat', 'object': 'chat.completion', 'service_tier': None, 'system_fingerprint': None, 'usage': {'completion_tokens': 10, 'prompt_tokens': 192, 'total_tokens': 202, 'completion_tokens_details': None, 'prompt_tokens_details': None}, 'prompt_logprobs': None}\n",
      "@@@@@ [SystemMessage(content='You are a helpful assistant', additional_kwargs={}, response_metadata={}), HumanMessage(content=\"Use the following results retrieved from a database to provide\\na succinct, definitive answer to the user's question.\\n\\nRespond as if you are answering the question directly.\\n\\nResults: 这个问题与煤矿安全无关。因此，我无法回答这个问题。\\nQuestion: What's the weather in Spain?\", additional_kwargs={}, response_metadata={})]\n",
      "@@@ {'id': 'chatcmpl-de139a3a2a4a4ac2a26c70428f884d4c', 'choices': [{'finish_reason': 'stop', 'index': 0, 'logprobs': None, 'message': {'content': \"I'm sorry, but the results provided are unrelated to the weather in Spain. Therefore, I cannot answer the question.\", 'refusal': None, 'role': 'assistant', 'audio': None, 'function_call': None, 'tool_calls': []}, 'stop_reason': 92542}], 'created': 1735875127, 'model': 'models/internlm2_5-7b-chat', 'object': 'chat.completion', 'service_tier': None, 'system_fingerprint': None, 'usage': {'completion_tokens': 25, 'prompt_tokens': 79, 'total_tokens': 104, 'completion_tokens_details': None, 'prompt_tokens_details': None}, 'prompt_logprobs': None}\n"
     ]
    },
    {
     "data": {
      "text/plain": [
       "{'answer': \"I'm sorry, but the results provided are unrelated to the weather in Spain. Therefore, I cannot answer the question.\",\n",
       " 'steps': ['guardrail', 'generate_final_answer']}"
      ]
     },
     "execution_count": 24,
     "metadata": {},
     "output_type": "execute_result"
    }
   ],
   "source": [
    "langgraph.invoke({\"question\": \"What's the weather in Spain?\"})"
   ]
  },
  {
   "cell_type": "markdown",
   "metadata": {},
   "source": [
    "一些相关问题"
   ]
  },
  {
   "cell_type": "code",
   "execution_count": 55,
   "metadata": {},
   "outputs": [
    {
     "name": "stdout",
     "output_type": "stream",
     "text": [
      "@@@@@ [HumanMessage(content='\\n作为一名智能助理，你的主要目标是决定一个给定的问题是否与煤矿安全有关。\\n如果问题与煤矿安全有关，则输出\"coal\"。否则，输出\"end\"。\\n为了做出这个决定，评估问题的内容，并确定它是否涉及任何安全管理、法律法规、设备与工具、活动与作业、组织与人员、环境与条件，\\n或相关主题。仅提供指定的输出：\"coal\" 或 \"end\"。\\n用户提问：\\n监理单位应当遵守什么法律法规?\\n', additional_kwargs={}, response_metadata={})]\n",
      "@@@ {'id': 'chatcmpl-bcec347a49c643e487ce8247738564fd', 'choices': [{'finish_reason': 'stop', 'index': 0, 'logprobs': None, 'message': {'content': '', 'refusal': None, 'role': 'assistant', 'audio': None, 'function_call': None, 'tool_calls': [{'id': 'chatcmpl-tool-4b5df301fe4f48ddb3ee9686b17c88c7', 'function': {'arguments': '{ \"decision\": \"end\" }', 'name': 'GuardrailsOutput'}, 'type': 'function'}]}, 'stop_reason': None}], 'created': 1735897675, 'model': 'models/internlm2_5-7b-chat', 'object': 'chat.completion', 'service_tier': None, 'system_fingerprint': None, 'usage': {'completion_tokens': 10, 'prompt_tokens': 192, 'total_tokens': 202, 'completion_tokens_details': None, 'prompt_tokens_details': None}, 'prompt_logprobs': None}\n",
      "@@@@@ [SystemMessage(content='You are a helpful assistant', additional_kwargs={}, response_metadata={}), HumanMessage(content=\"Use the following results retrieved from a database to provide\\na succinct, definitive answer to the user's question.\\n\\nRespond as if you are answering the question directly.\\n\\nResults: 这个问题与煤矿安全无关。因此，我无法回答这个问题。\\nQuestion: 监理单位应当遵守什么法律法规?\", additional_kwargs={}, response_metadata={})]\n",
      "@@@ {'id': 'chatcmpl-f5fbf57c9f8c4bf6a6999d523e882717', 'choices': [{'finish_reason': 'stop', 'index': 0, 'logprobs': None, 'message': {'content': '监理单位应当遵守以下法律法规：\\n\\n1. 《中华人民共和国建筑法》：该法规定了建筑活动的基本原则和要求，包括监理单位的职责和义务。\\n\\n2. 《中华人民共和国建设工程质量管理条例》：该条例明确了建设工程质量管理的基本要求，包括监理单位在质量控制中的作用。\\n\\n3. 《中华人民共和国建设工程安全生产管理条例》：该条例规定了建设工程安全生产的基本要求，包括监理单位在安全生产管理中的职责。\\n\\n4. 《中华人民共和国合同法》：该法规定了建设工程合同的基本原则和要求，包括监理单位在合同履行中的义务。\\n\\n5. 《中华人民共和国招标投标法》：该法规定了建设工程招标投标的基本原则和要求，包括监理单位在招标投标活动中的职责。\\n\\n6. 《中华人民共和国环境保护法》：该法规定了环境保护的基本原则和要求，包括监理单位在环境保护中的职责。\\n\\n7. 《中华人民共和国劳动法》：该法规定了劳动保护的基本原则和要求，包括监理单位在劳动保护中的职责。\\n\\n8. 《中华人民共和国消防法》：该法规定了消防安全的基本原则和要求，包括监理单位在消防安全管理中的职责。\\n\\n9. 《中华人民共和国城市规划法》：该法规定了城市规划的基本原则和要求，包括监理单位在城市规划中的职责。\\n\\n10. 《中华人民共和国土地管理法》：该法规定了土地管理的基本原则和要求，包括监理单位在土地管理中的职责。\\n\\n以上法律法规是监理单位在建设工程活动中应当遵守的主要法律法规。', 'refusal': None, 'role': 'assistant', 'audio': None, 'function_call': None, 'tool_calls': []}, 'stop_reason': 92542}], 'created': 1735897675, 'model': 'models/internlm2_5-7b-chat', 'object': 'chat.completion', 'service_tier': None, 'system_fingerprint': None, 'usage': {'completion_tokens': 325, 'prompt_tokens': 80, 'total_tokens': 405, 'completion_tokens_details': None, 'prompt_tokens_details': None}, 'prompt_logprobs': None}\n"
     ]
    },
    {
     "data": {
      "text/plain": [
       "{'answer': '监理单位应当遵守以下法律法规：\\n\\n1. 《中华人民共和国建筑法》：该法规定了建筑活动的基本原则和要求，包括监理单位的职责和义务。\\n\\n2. 《中华人民共和国建设工程质量管理条例》：该条例明确了建设工程质量管理的基本要求，包括监理单位在质量控制中的作用。\\n\\n3. 《中华人民共和国建设工程安全生产管理条例》：该条例规定了建设工程安全生产的基本要求，包括监理单位在安全生产管理中的职责。\\n\\n4. 《中华人民共和国合同法》：该法规定了建设工程合同的基本原则和要求，包括监理单位在合同履行中的义务。\\n\\n5. 《中华人民共和国招标投标法》：该法规定了建设工程招标投标的基本原则和要求，包括监理单位在招标投标活动中的职责。\\n\\n6. 《中华人民共和国环境保护法》：该法规定了环境保护的基本原则和要求，包括监理单位在环境保护中的职责。\\n\\n7. 《中华人民共和国劳动法》：该法规定了劳动保护的基本原则和要求，包括监理单位在劳动保护中的职责。\\n\\n8. 《中华人民共和国消防法》：该法规定了消防安全的基本原则和要求，包括监理单位在消防安全管理中的职责。\\n\\n9. 《中华人民共和国城市规划法》：该法规定了城市规划的基本原则和要求，包括监理单位在城市规划中的职责。\\n\\n10. 《中华人民共和国土地管理法》：该法规定了土地管理的基本原则和要求，包括监理单位在土地管理中的职责。\\n\\n以上法律法规是监理单位在建设工程活动中应当遵守的主要法律法规。',\n",
       " 'steps': ['guardrail', 'generate_final_answer']}"
      ]
     },
     "execution_count": 55,
     "metadata": {},
     "output_type": "execute_result"
    }
   ],
   "source": [
    "langgraph.invoke({\"question\": \"监理单位应当遵守什么法律法规?\"})"
   ]
  },
  {
   "cell_type": "markdown",
   "metadata": {},
   "source": [
    "### Next steps\n",
    "\n",
    "For other graph techniques like this and more check out:\n",
    "\n",
    "* [Semantic layer](/docs/how_to/graph_semantic): Techniques for implementing semantic layers.\n",
    "* [Constructing graphs](/docs/how_to/graph_constructing): Techniques for constructing knowledge graphs."
   ]
  },
  {
   "cell_type": "code",
   "execution_count": null,
   "metadata": {},
   "outputs": [],
   "source": []
  }
 ],
 "metadata": {
  "kernelspec": {
   "display_name": "llamaindex",
   "language": "python",
   "name": "llamaindex"
  },
  "language_info": {
   "codemirror_mode": {
    "name": "ipython",
    "version": 3
   },
   "file_extension": ".py",
   "mimetype": "text/x-python",
   "name": "python",
   "nbconvert_exporter": "python",
   "pygments_lexer": "ipython3",
   "version": "3.10.16"
  }
 },
 "nbformat": 4,
 "nbformat_minor": 4
}
